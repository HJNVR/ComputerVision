{
 "cells": [
  {
   "cell_type": "code",
   "execution_count": null,
   "metadata": {},
   "outputs": [],
   "source": [
    "import cv2\n",
    "from matplotlib import pyplot as plt\n",
    "\n",
    "# 图片识别方法封装\n",
    "def discern(img):\n",
    "    img = cv2.cvtColor(img, cv2.COLOR_BGR2RGB)\n",
    "    gray = cv2.cvtColor(img, cv2.COLOR_BGR2GRAY)\n",
    "    cap = cv2.CascadeClassifier(\n",
    "        \"/Users/Starkjing/Desktop/ComputerVision/FaceAI/opencv-master/data/haarcascades/haarcascade_frontalface_default.xml\"\n",
    "    )\n",
    "    faceRects = cap.detectMultiScale(\n",
    "        gray, scaleFactor=1.2, minNeighbors=3, minSize=(50, 50))\n",
    "    if len(faceRects):\n",
    "        for faceRect in faceRects:\n",
    "            x, y, w, h = faceRect\n",
    "            cv2.rectangle(img, (x, y), (x + h, y + w), (0, 255, 0), 2)  # 框出人脸\n",
    "            \n",
    "    plt.figure('Girl')\n",
    "    plt.imshow(img)\n",
    "    #plt.axis('off') # if you want to remove coordinates\n",
    "    plt.show()\n",
    "    #cv2.imshow(\"Image\", img)\n",
    "\n",
    "\n",
    "# 获取摄像头0表示第一个摄像头\n",
    "cap = cv2.VideoCapture(0)\n",
    "while (1):  # 逐帧显示\n",
    "    ret, img = cap.read()\n",
    "    # cv2.imshow(\"Image\", img)\n",
    "    discern(img)\n",
    "    if cv2.waitKey(1) & 0xFF == ord('q'):\n",
    "        break\n",
    "cap.release()  # 释放摄像头\n",
    "cv2.destroyAllWindows()  # 释放窗口资源"
   ]
  }
 ],
 "metadata": {
  "kernelspec": {
   "display_name": "Python 3",
   "language": "python",
   "name": "python3"
  },
  "language_info": {
   "codemirror_mode": {
    "name": "ipython",
    "version": 3
   },
   "file_extension": ".py",
   "mimetype": "text/x-python",
   "name": "python",
   "nbconvert_exporter": "python",
   "pygments_lexer": "ipython3",
   "version": "3.7.6"
  }
 },
 "nbformat": 4,
 "nbformat_minor": 4
}
