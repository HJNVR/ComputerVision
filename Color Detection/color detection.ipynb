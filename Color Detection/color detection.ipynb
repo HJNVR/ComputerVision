{
 "cells": [
  {
   "cell_type": "markdown",
   "metadata": {},
   "source": [
    "# color detection using OpenCV"
   ]
  },
  {
   "cell_type": "code",
   "execution_count": null,
   "metadata": {},
   "outputs": [
    {
     "name": "stdout",
     "output_type": "stream",
     "text": [
      "193   338\n"
     ]
    }
   ],
   "source": [
    "# importing the module\n",
    "#programming_fever\n",
    "import cv2\n",
    "import numpy as np\n",
    "import pandas as pd\n",
    "\n",
    "img_path = \"colorpic.jpg\"\n",
    "img = cv2.imread(img_path)\n",
    "img=cv2.resize(img,(700,500))\n",
    "\n",
    "r = g = b = xpos = ypos = 0\n",
    "\n",
    "#Reading csv file with pandas and giving names to each column\n",
    "index=[\"color\",\"color_name\",\"hex\",\"R\",\"G\",\"B\"]\n",
    "csv = pd.read_csv('colors.csv', names=index, header=None)\n",
    "\n",
    "#function to calculate minimum distance from all colors and get the most matching color\n",
    "def getColorName(R,G,B):\n",
    "    minimum = 10000\n",
    "    for i in range(len(csv)):\n",
    "        d = abs(R- int(csv.loc[i,\"R\"])) + abs(G- int(csv.loc[i,\"G\"]))+ abs(B- int(csv.loc[i,\"B\"]))\n",
    "        if(d<=minimum):\n",
    "            minimum = d\n",
    "            cname = csv.loc[i,\"color_name\"]\n",
    "    return cname\n",
    "\n",
    "# function to display the coordinates of\n",
    "# of the points clicked on the image \n",
    "def click_event(event, x, y, flags, params):\n",
    "  \n",
    "    # checking for left mouse clicks\n",
    "    if event == cv2.EVENT_LBUTTONDOWN:\n",
    "  \n",
    "        # displaying the coordinates\n",
    "        # on the Shell\n",
    "        print(x, ' ', y)\n",
    "  \n",
    "        # displaying the coordinates\n",
    "        # on the image window\n",
    "        font = cv2.FONT_HERSHEY_SIMPLEX\n",
    "        cv2.putText(img, str(x) + ',' +\n",
    "                    str(y), (x,y), font,\n",
    "                    1, (255, 0, 0), 2)\n",
    "        cv2.imshow('image', img)\n",
    "  \n",
    "    # checking for right mouse clicks     \n",
    "    if event==cv2.EVENT_RBUTTONDOWN:\n",
    "  \n",
    "        # displaying the coordinates\n",
    "        # on the Shell\n",
    "        #print(x, ' ', y)\n",
    "  \n",
    "        # displaying the coordinates\n",
    "        # on the image window\n",
    "        font = cv2.FONT_HERSHEY_SIMPLEX\n",
    "        b = int(img[y, x, 0])\n",
    "        g = int(img[y, x, 1])\n",
    "        r = int(img[y, x, 2])\n",
    "        \n",
    "        cv2.rectangle(img,(20,20), (750,60), (b,g,r), -1) # order is(b,g,r)\n",
    "        text = getColorName(r,g,b) + ' R='+ str(r) +  ' G='+ str(g) +  ' B='+ str(b)\n",
    "        \n",
    "        #cv2.putText(img,text,start,font(0-7),fontScale,color,thickness,lineType )\n",
    "        cv2.putText(img, text,(50,50),2,0.8,(255,255,255),2,cv2.LINE_AA)\n",
    "        #cv2.putText(img, str(b) + ',' + str(g) + ',' + str(r),\n",
    "        #            (x,y), font, 1,\n",
    "        #            (255, 255, 0), 2)\n",
    "        cv2.imshow('image', img)\n",
    "  \n",
    "\n",
    "\n",
    "# displaying the image\n",
    "cv2.imshow('image', img)\n",
    "  \n",
    "# setting mouse hadler for the image\n",
    "# and calling the click_event() function\n",
    "cv2.setMouseCallback('image', click_event)\n",
    "  \n",
    "# wait for a key to be pressed to exit\n",
    "cv2.waitKey(0)\n",
    "  \n",
    "# close the window\n",
    "cv2.destroyAllWindows()"
   ]
  },
  {
   "cell_type": "code",
   "execution_count": null,
   "metadata": {},
   "outputs": [],
   "source": []
  },
  {
   "cell_type": "code",
   "execution_count": null,
   "metadata": {},
   "outputs": [],
   "source": []
  }
 ],
 "metadata": {
  "kernelspec": {
   "display_name": "Python 3",
   "language": "python",
   "name": "python3"
  },
  "language_info": {
   "codemirror_mode": {
    "name": "ipython",
    "version": 3
   },
   "file_extension": ".py",
   "mimetype": "text/x-python",
   "name": "python",
   "nbconvert_exporter": "python",
   "pygments_lexer": "ipython3",
   "version": "3.7.6"
  }
 },
 "nbformat": 4,
 "nbformat_minor": 4
}
